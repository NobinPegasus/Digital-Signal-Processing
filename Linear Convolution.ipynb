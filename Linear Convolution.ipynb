{
  "nbformat": 4,
  "nbformat_minor": 0,
  "metadata": {
    "colab": {
      "name": "dsp2.ipynb",
      "provenance": [],
      "collapsed_sections": []
    },
    "kernelspec": {
      "name": "python3",
      "display_name": "Python 3"
    },
    "language_info": {
      "name": "python"
    }
  },
  "cells": [
    {
      "cell_type": "code",
      "metadata": {
        "id": "SxzFp3p47XeD"
      },
      "source": [
        "import numpy as np \n",
        "import matplotlib.pyplot as plt\n",
        "import itertools\n"
      ],
      "execution_count": 1,
      "outputs": []
    },
    {
      "cell_type": "code",
      "metadata": {
        "colab": {
          "base_uri": "https://localhost:8080/"
        },
        "id": "4rOUtOcF7-PK",
        "outputId": "4ae25920-bbba-42a7-e002-86d7aac0c45b"
      },
      "source": [
        "y = [-2,-1,0,1,2]\n",
        "h = [-3,-2,-1,0,1,2]\n",
        "conv = np.convolve(y,h)\n",
        "print(conv)"
      ],
      "execution_count": 2,
      "outputs": [
        {
          "output_type": "stream",
          "name": "stdout",
          "text": [
            "[  6   7   4  -2 -10 -10  -4   1   4   4]\n"
          ]
        }
      ]
    },
    {
      "cell_type": "code",
      "metadata": {
        "colab": {
          "base_uri": "https://localhost:8080/",
          "height": 590
        },
        "id": "7IzpSBND8F42",
        "outputId": "56364838-9343-4e7f-f3ec-167124b51034"
      },
      "source": [
        "fig = plt.gcf()\n",
        "\n",
        "fig, (ax1, ax2) = plt.subplots(1,2)\n",
        "\n",
        "\n",
        "ax1.stem(y)\n",
        "\n",
        "ax1.set(xlabel='n', ylabel='Amplitude')\n",
        "ax1.set_title('y[n]')\n",
        "ax1.grid(True)\n",
        "\n",
        "\n",
        "\n",
        "ax2.stem(h)\n",
        "\n",
        "ax2.set(xlabel='n', ylabel='Amplitude')\n",
        "ax2.set_title('h[n]')\n",
        "ax2.grid(True)\n",
        "\n",
        "fig.set_size_inches(17.5, 7.5)\n"
      ],
      "execution_count": 3,
      "outputs": [
        {
          "output_type": "stream",
          "name": "stderr",
          "text": [
            "/usr/local/lib/python3.7/dist-packages/ipykernel_launcher.py:6: UserWarning: In Matplotlib 3.3 individual lines on a stem plot will be added as a LineCollection instead of individual lines. This significantly improves the performance of a stem plot. To remove this warning and switch to the new behaviour, set the \"use_line_collection\" keyword argument to True.\n",
            "  \n",
            "/usr/local/lib/python3.7/dist-packages/ipykernel_launcher.py:14: UserWarning: In Matplotlib 3.3 individual lines on a stem plot will be added as a LineCollection instead of individual lines. This significantly improves the performance of a stem plot. To remove this warning and switch to the new behaviour, set the \"use_line_collection\" keyword argument to True.\n",
            "  \n"
          ]
        },
        {
          "output_type": "display_data",
          "data": {
            "text/plain": [
              "<Figure size 432x288 with 0 Axes>"
            ]
          },
          "metadata": {}
        },
        {
          "output_type": "display_data",
          "data": {
            "image/png": "[encoded data removed]",
            "text/plain": [
              "<Figure size 1260x540 with 2 Axes>"
            ]
          },
          "metadata": {
            "needs_background": "light"
          }
        }
      ]
    },
    {
      "cell_type": "code",
      "metadata": {
        "id": "QlcppC35Cpkz"
      },
      "source": [
        "# fig = plt.gcf()\n",
        "\n",
        "# fig, (ax1, ax2) = plt.subplots(1,2)\n",
        "\n",
        "\n",
        "# plt.stem(conv)\n",
        "\n",
        "# plt.set(xlabel='n', ylabel='Amplitude')\n",
        "# plt.set_title('y[n]')\n",
        "# plt.grid(True)"
      ],
      "execution_count": 4,
      "outputs": []
    },
    {
      "cell_type": "code",
      "metadata": {
        "colab": {
          "base_uri": "https://localhost:8080/"
        },
        "id": "eU5lqqbDDVLj",
        "outputId": "dce6da0c-2e7f-4fd6-d099-504fc7d504dd"
      },
      "source": [
        "\n",
        "l2 = []\n",
        "for i in range(len(y)):\n",
        "  l1 = []\n",
        "  for j in range(len(h)):\n",
        "    con = y[i]*h[j]\n",
        "    # print('i ', i, ' con ', con)\n",
        "    l1.append(con)\n",
        "  l2.append(l1)\n",
        "# print(l1)\n",
        "# print(l2)\n",
        "\n",
        "for i in range(len(l2)):\n",
        "  if(i != 0):\n",
        "      # print(l2[i])\n",
        "      \n",
        "      for j in range(i):\n",
        "        l2[i].append(0)\n",
        "        # l2[i].reverse()\n",
        "        # print(l2[i])\n",
        "      \n",
        "  # print(l2[i])\n",
        "# print(l2)\n",
        "for i in range(len(l2)):\n",
        "  l2[i].reverse()\n",
        "# l2.reverse()\n",
        "# print(l2)\n",
        "# print(l2)\n",
        "\n",
        "# data = np.array(l2)\n",
        "\n",
        "l2 = [-sum(i) for i in itertools.zip_longest(*l2, fillvalue=0)]\n",
        "l2.reverse()\n",
        "print(l2)\n",
        "print(conv)\n",
        "\n",
        "# a = (map(sum,zip(*l2)))\n",
        "# print(*a)\n",
        "\n",
        "# ki = np.sum(data,0)\n",
        "\n",
        "# print(ki)\n",
        "# [sum(i) for i in zip(*l2)]\n",
        "\n",
        "# [sum(i) for i in itertools.izip_longest(*l, fillvalue=0)]\n",
        "\n",
        "\n"
      ],
      "execution_count": 5,
      "outputs": [
        {
          "output_type": "stream",
          "name": "stdout",
          "text": [
            "[6, 7, 4, -2, -10, -10, -4, 1, 4, 4]\n",
            "[  6   7   4  -2 -10 -10  -4   1   4   4]\n"
          ]
        }
      ]
    },
    {
      "cell_type": "code",
      "metadata": {
        "colab": {
          "base_uri": "https://localhost:8080/",
          "height": 574
        },
        "id": "BNbjY7j2Xxal",
        "outputId": "e9a52eac-d5e2-4c6b-bb96-3cf4cfa1131e"
      },
      "source": [
        "\n",
        "t = np.arange(-10, 8, 1)\n",
        "\n",
        "\n",
        "\n",
        "fig = plt.gcf()\n",
        "\n",
        "\n",
        "fig, (ax1, ax2) = plt.subplots(1,2)\n",
        "\n",
        "\n",
        "ax1.stem(conv)\n",
        "\n",
        "ax1.set(xlabel='n', ylabel='Amplitude')\n",
        "ax1.set_title('y[n]*h[n]')\n",
        "# plt.yticks(t)\n",
        "ax1.grid(True)\n",
        "\n",
        "ax1.set_yticks(t)\n",
        "\n",
        "\n",
        "ax2.stem(l2)\n",
        "\n",
        "\n",
        "\n",
        "ax2.set(xlabel='n', ylabel='Amplitude')\n",
        "ax2.set_title('y[]n*h[n]')\n",
        "# plt.yticks(t)\n",
        "ax2.grid(True)\n",
        "\n",
        "ax2.set_yticks(t)\n",
        "\n",
        "fig.set_size_inches(17.5, 7.5)\n"
      ],
      "execution_count": 6,
      "outputs": [
        {
          "output_type": "stream",
          "name": "stderr",
          "text": [
            "/usr/local/lib/python3.7/dist-packages/ipykernel_launcher.py:12: UserWarning: In Matplotlib 3.3 individual lines on a stem plot will be added as a LineCollection instead of individual lines. This significantly improves the performance of a stem plot. To remove this warning and switch to the new behaviour, set the \"use_line_collection\" keyword argument to True.\n",
            "  if sys.path[0] == '':\n",
            "/usr/local/lib/python3.7/dist-packages/ipykernel_launcher.py:22: UserWarning: In Matplotlib 3.3 individual lines on a stem plot will be added as a LineCollection instead of individual lines. This significantly improves the performance of a stem plot. To remove this warning and switch to the new behaviour, set the \"use_line_collection\" keyword argument to True.\n"
          ]
        },
        {
          "output_type": "display_data",
          "data": {
            "text/plain": [
              "<Figure size 432x288 with 0 Axes>"
            ]
          },
          "metadata": {}
        },
        {
          "output_type": "display_data",
          "data": {
            "image/png": "[encoded data removed]",
            "text/plain": [
              "<Figure size 1260x540 with 2 Axes>"
            ]
          },
          "metadata": {
            "needs_background": "light"
          }
        }
      ]
    }
  ]
}
