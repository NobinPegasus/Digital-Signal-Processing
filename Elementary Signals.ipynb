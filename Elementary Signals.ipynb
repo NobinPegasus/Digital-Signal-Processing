{
  "nbformat": 4,
  "nbformat_minor": 0,
  "metadata": {
    "colab": {
      "name": "dsp1.ipynb",
      "provenance": []
    },
    "kernelspec": {
      "name": "python3",
      "display_name": "Python 3"
    },
    "language_info": {
      "name": "python"
    }
  },
  "cells": [
    {
      "cell_type": "markdown",
      "metadata": {
        "id": "NskbckGr2vuf"
      },
      "source": [
        "# **Unit Impulse**"
      ]
    },
    {
      "cell_type": "code",
      "metadata": {
        "colab": {
          "base_uri": "https://localhost:8080/",
          "height": 399
        },
        "id": "ZYiVx9fC2tq5",
        "outputId": "e3d47ff9-dba9-4d32-e8c0-56bcb971b0c9"
      },
      "source": [
        "import numpy as np \n",
        "import matplotlib.pyplot as plt\n",
        "\n",
        "x_min = int(input(\"x_min \"))\n",
        "x_max = int(input(\"x_max \"))\n",
        "n = range(x_min, x_max+1, 1)\n",
        "y = []\n",
        "for i in range(len(n)):\n",
        "    temp = (1 if n[i]==0 else 0)\n",
        "    y.append(temp)\n",
        "    \n",
        "# print(n)\n",
        "print(y)\n",
        "\n",
        "plt.stem(n, y)\n",
        "plt.axis([x_min-1, x_max+1, -0.5, 1.5])\n",
        "plt.xlabel('  n  ')\n",
        "plt.ylabel('Amplitude ')\n",
        "plt.title('Unit Impulse Signal')\n",
        "plt.grid(True)\n",
        "plt.show()"
      ],
      "execution_count": 2,
      "outputs": [
        {
          "output_type": "stream",
          "name": "stdout",
          "text": [
            "x_min -3\n",
            "x_max 5\n",
            "[0, 0, 0, 1, 0, 0, 0, 0, 0]\n"
          ]
        },
        {
          "output_type": "stream",
          "name": "stderr",
          "text": [
            "/usr/local/lib/python3.7/dist-packages/ipykernel_launcher.py:15: UserWarning: In Matplotlib 3.3 individual lines on a stem plot will be added as a LineCollection instead of individual lines. This significantly improves the performance of a stem plot. To remove this warning and switch to the new behaviour, set the \"use_line_collection\" keyword argument to True.\n",
            "  from ipykernel import kernelapp as app\n"
          ]
        },
        {
          "output_type": "display_data",
          "data": {
            "image/png": "[encoded data removed]",
            "text/plain": [
              "<Figure size 432x288 with 1 Axes>"
            ]
          },
          "metadata": {
            "needs_background": "light"
          }
        }
      ]
    },
    {
      "cell_type": "markdown",
      "metadata": {
        "id": "5Vbf83s41Zts"
      },
      "source": [
        "# **Unit Step**"
      ]
    },
    {
      "cell_type": "code",
      "metadata": {
        "colab": {
          "base_uri": "https://localhost:8080/",
          "height": 399
        },
        "id": "uNZdCj9l1mBW",
        "outputId": "f25ee7b4-7aa7-46d1-f537-a049f580d341"
      },
      "source": [
        "import numpy as np \n",
        "import matplotlib.pyplot as plt\n",
        "\n",
        "x_min = int(input(\"x_min \"))\n",
        "x_max = int(input(\"x_max \"))\n",
        "n = range(x_min, x_max+1, 1)\n",
        "y = []\n",
        "for i in range(len(n)):\n",
        "    temp = (1 if n[i]>=0 else 0)\n",
        "    y.append(temp)\n",
        "    \n",
        "# print(n)\n",
        "print(y)\n",
        "\n",
        "plt.stem(n, y)\n",
        "plt.axis([x_min-1, x_max+1, -0.5, 1.5])\n",
        "plt.xlabel('  n  ')\n",
        "plt.ylabel('Amplitude ')\n",
        "plt.title('Unit Step Signal')\n",
        "plt.grid(True)\n",
        "plt.show()"
      ],
      "execution_count": 3,
      "outputs": [
        {
          "output_type": "stream",
          "name": "stdout",
          "text": [
            "x_min -4\n",
            "x_max 6\n",
            "[0, 0, 0, 0, 1, 1, 1, 1, 1, 1, 1]\n"
          ]
        },
        {
          "output_type": "stream",
          "name": "stderr",
          "text": [
            "/usr/local/lib/python3.7/dist-packages/ipykernel_launcher.py:15: UserWarning: In Matplotlib 3.3 individual lines on a stem plot will be added as a LineCollection instead of individual lines. This significantly improves the performance of a stem plot. To remove this warning and switch to the new behaviour, set the \"use_line_collection\" keyword argument to True.\n",
            "  from ipykernel import kernelapp as app\n"
          ]
        },
        {
          "output_type": "display_data",
          "data": {
            "image/png": "[encoded data removed]",
            "text/plain": [
              "<Figure size 432x288 with 1 Axes>"
            ]
          },
          "metadata": {
            "needs_background": "light"
          }
        }
      ]
    },
    {
      "cell_type": "markdown",
      "metadata": {
        "id": "IskwQHew1pB9"
      },
      "source": [
        "# **Unit Ramp**"
      ]
    },
    {
      "cell_type": "code",
      "metadata": {
        "colab": {
          "base_uri": "https://localhost:8080/",
          "height": 416
        },
        "id": "wjwcdHxOz6yZ",
        "outputId": "4ee1f799-5f49-424a-ff7b-e9747945aa9d"
      },
      "source": [
        "import numpy as np \n",
        "import matplotlib.pyplot as plt\n",
        "\n",
        "x_min = int(input(\"x_min \"))\n",
        "x_max = int(input(\"x_max \"))\n",
        "n = range(x_min, x_max+1, 1)\n",
        "print(n)\n",
        "y = []\n",
        "for i in range(len(n)):\n",
        "    temp = (i if n[i]>0 else 0)\n",
        "    y.append(temp)\n",
        "    \n",
        "# print(n)\n",
        "print(y)\n",
        "\n",
        "plt.stem(n, y)\n",
        "plt.axis([x_min-1, x_max+1, -0.5, len(n)+1])\n",
        "plt.xlabel('  n  ')\n",
        "plt.ylabel('Amplitude ')\n",
        "plt.title('Unit Ramp Signal')\n",
        "plt.grid(True)\n",
        "plt.show()"
      ],
      "execution_count": 4,
      "outputs": [
        {
          "output_type": "stream",
          "name": "stdout",
          "text": [
            "x_min -3\n",
            "x_max 7\n",
            "range(-3, 8)\n",
            "[0, 0, 0, 0, 4, 5, 6, 7, 8, 9, 10]\n"
          ]
        },
        {
          "output_type": "stream",
          "name": "stderr",
          "text": [
            "/usr/local/lib/python3.7/dist-packages/ipykernel_launcher.py:16: UserWarning: In Matplotlib 3.3 individual lines on a stem plot will be added as a LineCollection instead of individual lines. This significantly improves the performance of a stem plot. To remove this warning and switch to the new behaviour, set the \"use_line_collection\" keyword argument to True.\n",
            "  app.launch_new_instance()\n"
          ]
        },
        {
          "output_type": "display_data",
          "data": {
            "image/png": "[encoded data removed]",
            "text/plain": [
              "<Figure size 432x288 with 1 Axes>"
            ]
          },
          "metadata": {
            "needs_background": "light"
          }
        }
      ]
    },
    {
      "cell_type": "markdown",
      "metadata": {
        "id": "MjuOB_lu4VJj"
      },
      "source": [
        "# **Exponential**"
      ]
    },
    {
      "cell_type": "code",
      "metadata": {
        "colab": {
          "base_uri": "https://localhost:8080/",
          "height": 399
        },
        "id": "0sPRVE3o4T12",
        "outputId": "a8fbae99-b10a-4d35-9bcf-adb37b24a32f"
      },
      "source": [
        "a = 0.8\n",
        "x_min = int(input(\"x_min \"))\n",
        "x_max = int(input(\"x_max \"))\n",
        "n = range(x_min, x_max+1, 1)\n",
        "print(n)\n",
        "y = []\n",
        "\n",
        "for i in range(len(n)):\n",
        "    temp = a**n[i]\n",
        "    y.append(temp)\n",
        "    \n",
        "\n",
        "#Plotting the graph\n",
        "plt.stem(y)\n",
        "# plt.axis([x_min-1, x_max+1, -0.5, y[len(n)-1]+1])\n",
        "plt.xlabel('  n  ')\n",
        "plt.ylabel('Amplitude ')\n",
        "plt.title('Exponential signal for 0 < a < 1')\n",
        "plt.grid(True)\n",
        "plt.show()"
      ],
      "execution_count": 11,
      "outputs": [
        {
          "output_type": "stream",
          "name": "stdout",
          "text": [
            "x_min 0\n",
            "x_max 15\n",
            "range(0, 16)\n"
          ]
        },
        {
          "output_type": "stream",
          "name": "stderr",
          "text": [
            "/usr/local/lib/python3.7/dist-packages/ipykernel_launcher.py:14: UserWarning: In Matplotlib 3.3 individual lines on a stem plot will be added as a LineCollection instead of individual lines. This significantly improves the performance of a stem plot. To remove this warning and switch to the new behaviour, set the \"use_line_collection\" keyword argument to True.\n",
            "  \n"
          ]
        },
        {
          "output_type": "display_data",
          "data": {
            "image/png": "[encoded data removed]",
            "text/plain": [
              "<Figure size 432x288 with 1 Axes>"
            ]
          },
          "metadata": {
            "needs_background": "light"
          }
        }
      ]
    }
  ]
}
